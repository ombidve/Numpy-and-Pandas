{
 "cells": [
  {
   "cell_type": "code",
   "execution_count": 6,
   "id": "a5ef2a1b-506c-40fe-92d9-b8bc43315578",
   "metadata": {},
   "outputs": [],
   "source": [
    "import numpy as np\n"
   ]
  },
  {
   "cell_type": "code",
   "execution_count": 26,
   "id": "e1a66419-670f-45c5-bdae-70e6c543123e",
   "metadata": {},
   "outputs": [
    {
     "data": {
      "text/plain": [
       "array([1, 2, 3, 4, 5])"
      ]
     },
     "execution_count": 26,
     "metadata": {},
     "output_type": "execute_result"
    }
   ],
   "source": [
    "arr1 = np.array([1,2,3,4,5])\n",
    "arr1"
   ]
  },
  {
   "cell_type": "code",
   "execution_count": 28,
   "id": "44ee511b-e57d-40c8-94e9-0fe72b45b945",
   "metadata": {},
   "outputs": [
    {
     "data": {
      "text/plain": [
       "numpy.ndarray"
      ]
     },
     "execution_count": 28,
     "metadata": {},
     "output_type": "execute_result"
    }
   ],
   "source": [
    "type(arr1)"
   ]
  },
  {
   "cell_type": "code",
   "execution_count": 30,
   "id": "a31c385a-cb00-4143-ab34-decbab6577bf",
   "metadata": {},
   "outputs": [
    {
     "data": {
      "text/plain": [
       "array([[1, 2, 3],\n",
       "       [4, 5, 6]])"
      ]
     },
     "execution_count": 30,
     "metadata": {},
     "output_type": "execute_result"
    }
   ],
   "source": [
    "arr2 = np.array([[1,2,3],[4,5,6]])\n",
    "arr2"
   ]
  },
  {
   "cell_type": "code",
   "execution_count": 32,
   "id": "06c192cc-55dd-43ea-9a9c-7edf044c7ee0",
   "metadata": {},
   "outputs": [
    {
     "data": {
      "text/plain": [
       "array([[0., 0., 0.],\n",
       "       [0., 0., 0.]])"
      ]
     },
     "execution_count": 32,
     "metadata": {},
     "output_type": "execute_result"
    }
   ],
   "source": [
    "arr3 = np.zeros((2,3))\n",
    "arr3"
   ]
  },
  {
   "cell_type": "code",
   "execution_count": 34,
   "id": "0e038b9e-2d6e-405a-afff-85f274533186",
   "metadata": {},
   "outputs": [
    {
     "data": {
      "text/plain": [
       "array([[1., 1., 1.],\n",
       "       [1., 1., 1.],\n",
       "       [1., 1., 1.]])"
      ]
     },
     "execution_count": 34,
     "metadata": {},
     "output_type": "execute_result"
    }
   ],
   "source": [
    "arr4 = np.ones((3,3))\n",
    "arr4"
   ]
  },
  {
   "cell_type": "code",
   "execution_count": 36,
   "id": "8ba67fc5-231a-4419-8e8d-e6b9624e0adb",
   "metadata": {},
   "outputs": [
    {
     "data": {
      "text/plain": [
       "array([[1., 0., 0., 0., 0.],\n",
       "       [0., 1., 0., 0., 0.],\n",
       "       [0., 0., 1., 0., 0.],\n",
       "       [0., 0., 0., 1., 0.],\n",
       "       [0., 0., 0., 0., 1.]])"
      ]
     },
     "execution_count": 36,
     "metadata": {},
     "output_type": "execute_result"
    }
   ],
   "source": [
    "arr5 = np.identity(5)\n",
    "arr5"
   ]
  },
  {
   "cell_type": "code",
   "execution_count": 38,
   "id": "f46c9e78-9d1b-4e58-9a06-76f00d614c93",
   "metadata": {},
   "outputs": [
    {
     "data": {
      "text/plain": [
       "array([0, 1, 2, 3, 4, 5, 6, 7, 8, 9])"
      ]
     },
     "execution_count": 38,
     "metadata": {},
     "output_type": "execute_result"
    }
   ],
   "source": [
    "arr6 = np.arange(10)\n",
    "arr6"
   ]
  },
  {
   "cell_type": "code",
   "execution_count": 40,
   "id": "a4d72fcc-f41a-4f9e-925d-bfd06304c496",
   "metadata": {},
   "outputs": [
    {
     "data": {
      "text/plain": [
       "array([ 5,  6,  7,  8,  9, 10, 11, 12, 13, 14, 15])"
      ]
     },
     "execution_count": 40,
     "metadata": {},
     "output_type": "execute_result"
    }
   ],
   "source": [
    "arr7 = np.arange(5, 16)\n",
    "arr7"
   ]
  },
  {
   "cell_type": "code",
   "execution_count": 42,
   "id": "503fb3db-7c98-4ad6-93bb-36e2b1dd94fa",
   "metadata": {},
   "outputs": [
    {
     "data": {
      "text/plain": [
       "array([ 5,  8, 11, 14])"
      ]
     },
     "execution_count": 42,
     "metadata": {},
     "output_type": "execute_result"
    }
   ],
   "source": [
    "arr8 = np.arange(5,16,3)\n",
    "arr8"
   ]
  },
  {
   "cell_type": "code",
   "execution_count": 44,
   "id": "4a2022b1-b1b3-447a-b4ef-8d0ac982af6e",
   "metadata": {},
   "outputs": [
    {
     "data": {
      "text/plain": [
       "array([10.        , 11.11111111, 12.22222222, 13.33333333, 14.44444444,\n",
       "       15.55555556, 16.66666667, 17.77777778, 18.88888889, 20.        ])"
      ]
     },
     "execution_count": 44,
     "metadata": {},
     "output_type": "execute_result"
    }
   ],
   "source": [
    "arr9 = np.linspace(10,20,10)\n",
    "arr9"
   ]
  },
  {
   "cell_type": "code",
   "execution_count": 46,
   "id": "3e2cfc3b-2c29-4a8d-8fb8-4297783b002e",
   "metadata": {},
   "outputs": [
    {
     "data": {
      "text/plain": [
       "array([ 5,  8, 11, 14])"
      ]
     },
     "execution_count": 46,
     "metadata": {},
     "output_type": "execute_result"
    }
   ],
   "source": [
    "arr10 = arr8.copy()\n",
    "arr10"
   ]
  },
  {
   "cell_type": "code",
   "execution_count": 48,
   "id": "f06a0195-7709-4aa3-89f4-e2a8887e2528",
   "metadata": {},
   "outputs": [
    {
     "data": {
      "text/plain": [
       "(5,)"
      ]
     },
     "execution_count": 48,
     "metadata": {},
     "output_type": "execute_result"
    }
   ],
   "source": [
    "arr1.shape"
   ]
  },
  {
   "cell_type": "code",
   "execution_count": 50,
   "id": "036393e4-19a4-4f3f-9ced-dcdcb1b4acf7",
   "metadata": {},
   "outputs": [
    {
     "data": {
      "text/plain": [
       "(2, 3)"
      ]
     },
     "execution_count": 50,
     "metadata": {},
     "output_type": "execute_result"
    }
   ],
   "source": [
    "arr2.shape\n"
   ]
  },
  {
   "cell_type": "code",
   "execution_count": 52,
   "id": "0e66ae4b-58d9-47dc-bfd4-cb90ccfbf8d1",
   "metadata": {},
   "outputs": [
    {
     "data": {
      "text/plain": [
       "array([[[1, 2],\n",
       "        [2, 3]],\n",
       "\n",
       "       [[3, 4],\n",
       "        [4, 5]],\n",
       "\n",
       "       [[5, 6],\n",
       "        [6, 7]]])"
      ]
     },
     "execution_count": 52,
     "metadata": {},
     "output_type": "execute_result"
    }
   ],
   "source": [
    "arr11 = np.array([[[1,2],[2,3]],[[3,4],[4,5]],[[5,6],[6,7]]])\n",
    "arr11"
   ]
  },
  {
   "cell_type": "code",
   "execution_count": 54,
   "id": "a11304e4-1da4-4b99-8f40-35f95d030e12",
   "metadata": {},
   "outputs": [
    {
     "data": {
      "text/plain": [
       "(3, 2, 2)"
      ]
     },
     "execution_count": 54,
     "metadata": {},
     "output_type": "execute_result"
    }
   ],
   "source": [
    "arr11.shape\n"
   ]
  },
  {
   "cell_type": "code",
   "execution_count": 56,
   "id": "7fb254a8-4d7d-4942-8459-59e81e483c78",
   "metadata": {},
   "outputs": [
    {
     "data": {
      "text/plain": [
       "3"
      ]
     },
     "execution_count": 56,
     "metadata": {},
     "output_type": "execute_result"
    }
   ],
   "source": [
    "arr11.ndim\n"
   ]
  },
  {
   "cell_type": "code",
   "execution_count": 58,
   "id": "8c076366-efd4-40ed-822a-e8130a3f8fe5",
   "metadata": {},
   "outputs": [
    {
     "data": {
      "text/plain": [
       "2"
      ]
     },
     "execution_count": 58,
     "metadata": {},
     "output_type": "execute_result"
    }
   ],
   "source": [
    "arr2.ndim\n"
   ]
  },
  {
   "cell_type": "code",
   "execution_count": 60,
   "id": "1ac99e81-4c2c-490b-9e9e-a8e0388b5e0c",
   "metadata": {},
   "outputs": [
    {
     "data": {
      "text/plain": [
       "1"
      ]
     },
     "execution_count": 60,
     "metadata": {},
     "output_type": "execute_result"
    }
   ],
   "source": [
    "arr1.ndim"
   ]
  },
  {
   "cell_type": "code",
   "execution_count": 62,
   "id": "7a8f726b-1a2d-46cf-b977-5a6710b78813",
   "metadata": {},
   "outputs": [
    {
     "data": {
      "text/plain": [
       "5"
      ]
     },
     "execution_count": 62,
     "metadata": {},
     "output_type": "execute_result"
    }
   ],
   "source": [
    "arr1.size"
   ]
  },
  {
   "cell_type": "code",
   "execution_count": 64,
   "id": "9b0242be-5d60-4b4d-b119-674fb7508067",
   "metadata": {},
   "outputs": [
    {
     "data": {
      "text/plain": [
       "12"
      ]
     },
     "execution_count": 64,
     "metadata": {},
     "output_type": "execute_result"
    }
   ],
   "source": [
    "arr11.size"
   ]
  },
  {
   "cell_type": "code",
   "execution_count": 66,
   "id": "b486bc9f-fca7-4644-8fe4-8e6b290e55c9",
   "metadata": {},
   "outputs": [
    {
     "data": {
      "text/plain": [
       "8"
      ]
     },
     "execution_count": 66,
     "metadata": {},
     "output_type": "execute_result"
    }
   ],
   "source": [
    "arr11.itemsize"
   ]
  },
  {
   "cell_type": "code",
   "execution_count": 68,
   "id": "f4ca3304-a4cc-4c6d-9a00-e6c092cf70d8",
   "metadata": {},
   "outputs": [
    {
     "data": {
      "text/plain": [
       "8"
      ]
     },
     "execution_count": 68,
     "metadata": {},
     "output_type": "execute_result"
    }
   ],
   "source": [
    "arr1.itemsize"
   ]
  },
  {
   "cell_type": "code",
   "execution_count": 70,
   "id": "155d8ac4-d742-4893-b57f-3067577d2edf",
   "metadata": {},
   "outputs": [
    {
     "data": {
      "text/plain": [
       "8"
      ]
     },
     "execution_count": 70,
     "metadata": {},
     "output_type": "execute_result"
    }
   ],
   "source": [
    "arr9.itemsize"
   ]
  },
  {
   "cell_type": "code",
   "execution_count": 72,
   "id": "550a52a8-97d6-4f0e-9812-91ca59e74e93",
   "metadata": {},
   "outputs": [
    {
     "data": {
      "text/plain": [
       "dtype('float64')"
      ]
     },
     "execution_count": 72,
     "metadata": {},
     "output_type": "execute_result"
    }
   ],
   "source": [
    "arr9.dtype"
   ]
  },
  {
   "cell_type": "code",
   "execution_count": 74,
   "id": "816df6ce-246b-4681-8ef5-ed1431461301",
   "metadata": {},
   "outputs": [
    {
     "data": {
      "text/plain": [
       "dtype('int64')"
      ]
     },
     "execution_count": 74,
     "metadata": {},
     "output_type": "execute_result"
    }
   ],
   "source": [
    "arr11.dtype"
   ]
  },
  {
   "cell_type": "code",
   "execution_count": 76,
   "id": "a86ed040-07aa-4efe-a450-abf2d29f424b",
   "metadata": {},
   "outputs": [
    {
     "data": {
      "text/plain": [
       "array([[[1., 2.],\n",
       "        [2., 3.]],\n",
       "\n",
       "       [[3., 4.],\n",
       "        [4., 5.]],\n",
       "\n",
       "       [[5., 6.],\n",
       "        [6., 7.]]])"
      ]
     },
     "execution_count": 76,
     "metadata": {},
     "output_type": "execute_result"
    }
   ],
   "source": [
    "arr11.astype('float')"
   ]
  },
  {
   "cell_type": "code",
   "execution_count": 78,
   "id": "8fc01856-87d7-4c73-92c1-0f20d4a4e3ea",
   "metadata": {},
   "outputs": [],
   "source": [
    "lista = range(100)\n",
    "arr12 = np.arange(100)"
   ]
  },
  {
   "cell_type": "code",
   "execution_count": 80,
   "id": "5702c24a-3dd7-40b6-bc8c-13dbd2561851",
   "metadata": {},
   "outputs": [],
   "source": [
    "import sys"
   ]
  },
  {
   "cell_type": "code",
   "execution_count": 82,
   "id": "8b4a5a61-f8ea-4c99-b317-8c7a7c1cd934",
   "metadata": {},
   "outputs": [
    {
     "name": "stdout",
     "output_type": "stream",
     "text": [
      "2800\n"
     ]
    }
   ],
   "source": [
    "print (sys.getsizeof(88) * len(lista))"
   ]
  },
  {
   "cell_type": "code",
   "execution_count": 84,
   "id": "da2ca923-1899-4fd4-8007-9f6a12be4356",
   "metadata": {},
   "outputs": [
    {
     "name": "stdout",
     "output_type": "stream",
     "text": [
      "800\n"
     ]
    }
   ],
   "source": [
    "print (arr12.itemsize * arr12.size)"
   ]
  },
  {
   "cell_type": "markdown",
   "id": "8149ed6c-a340-46ab-9bde-5ed8a17c4917",
   "metadata": {},
   "source": [
    "hence proved that numpy array utilises less space than python list\n"
   ]
  },
  {
   "cell_type": "code",
   "execution_count": 87,
   "id": "80dbd394-2c7a-40f0-8a3d-f237bfe9485f",
   "metadata": {},
   "outputs": [],
   "source": [
    "import time"
   ]
  },
  {
   "cell_type": "code",
   "execution_count": 89,
   "id": "01201b1a-aa78-4286-aadc-6b201805eba7",
   "metadata": {},
   "outputs": [
    {
     "name": "stdout",
     "output_type": "stream",
     "text": [
      "0.03741121292114258\n"
     ]
    }
   ],
   "source": [
    "x = range(100000)\n",
    "y = range(100000, 200000)\n",
    "\n",
    "start_time = time.time()\n",
    "c = [(x+y) for x,y in zip(x,y)]\n",
    "\n",
    "print(time.time() - start_time)"
   ]
  },
  {
   "cell_type": "code",
   "execution_count": 91,
   "id": "9dd0cc8b-b95d-4c93-b118-eb945a32e014",
   "metadata": {},
   "outputs": [
    {
     "name": "stdout",
     "output_type": "stream",
     "text": [
      "0.003117084503173828\n"
     ]
    }
   ],
   "source": [
    "a = np.arange(100000)\n",
    "b = np.arange(100000, 200000)\n",
    "\n",
    "start_time = time.time()\n",
    "c = a+b\n",
    "\n",
    "print(time.time() - start_time)"
   ]
  },
  {
   "cell_type": "markdown",
   "id": "66f6b0c3-b138-40b0-a801-c0a95e17bc52",
   "metadata": {},
   "source": [
    "hence proved that numpy takes less time than python list"
   ]
  },
  {
   "cell_type": "markdown",
   "id": "07d20ff1-712e-403b-8bc8-28342ec66957",
   "metadata": {},
   "source": [
    "Indexing, Slcicing and Iteration in numPY arrays:"
   ]
  },
  {
   "cell_type": "code",
   "execution_count": 94,
   "id": "5c982d86-9219-410c-ab61-0e17a2c64475",
   "metadata": {},
   "outputs": [
    {
     "data": {
      "text/plain": [
       "array([[ 0,  1,  2,  3],\n",
       "       [ 4,  5,  6,  7],\n",
       "       [ 8,  9, 10, 11],\n",
       "       [12, 13, 14, 15],\n",
       "       [16, 17, 18, 19],\n",
       "       [20, 21, 22, 23]])"
      ]
     },
     "execution_count": 94,
     "metadata": {},
     "output_type": "execute_result"
    }
   ],
   "source": [
    "arr13 = np.arange(24).reshape(6,4)\n",
    "arr13"
   ]
  },
  {
   "cell_type": "code",
   "execution_count": 102,
   "id": "6a4aa039-96df-4ca8-ac72-31f09dbd00cf",
   "metadata": {},
   "outputs": [
    {
     "data": {
      "text/plain": [
       "array([12, 13, 14, 15])"
      ]
     },
     "execution_count": 102,
     "metadata": {},
     "output_type": "execute_result"
    }
   ],
   "source": [
    "arr13[3]"
   ]
  },
  {
   "cell_type": "code",
   "execution_count": 104,
   "id": "3dc9abc5-a4df-46a1-99e7-4fe940221633",
   "metadata": {},
   "outputs": [
    {
     "data": {
      "text/plain": [
       "array([ 2,  6, 10, 14, 18, 22])"
      ]
     },
     "execution_count": 104,
     "metadata": {},
     "output_type": "execute_result"
    }
   ],
   "source": [
    "arr13[:,2]"
   ]
  },
  {
   "cell_type": "code",
   "execution_count": 112,
   "id": "08452efd-38f7-4cc4-b034-06071f685978",
   "metadata": {},
   "outputs": [
    {
     "data": {
      "text/plain": [
       "array([[ 1,  2],\n",
       "       [ 5,  6],\n",
       "       [ 9, 10],\n",
       "       [13, 14],\n",
       "       [17, 18],\n",
       "       [21, 22]])"
      ]
     },
     "execution_count": 112,
     "metadata": {},
     "output_type": "execute_result"
    }
   ],
   "source": [
    "arr13[:,1:3]"
   ]
  },
  {
   "cell_type": "code",
   "execution_count": 114,
   "id": "e11e5aff-2c06-4312-9156-3d014fecfa5e",
   "metadata": {},
   "outputs": [
    {
     "data": {
      "text/plain": [
       "array([[ 9, 10],\n",
       "       [13, 14]])"
      ]
     },
     "execution_count": 114,
     "metadata": {},
     "output_type": "execute_result"
    }
   ],
   "source": [
    "arr13[2:4,1:3]"
   ]
  },
  {
   "cell_type": "code",
   "execution_count": 120,
   "id": "1be2fdff-9783-40db-887a-7385028d1aff",
   "metadata": {},
   "outputs": [
    {
     "name": "stdout",
     "output_type": "stream",
     "text": [
      "[0 1 2 3]\n",
      "[4 5 6 7]\n",
      "[ 8  9 10 11]\n",
      "[12 13 14 15]\n",
      "[16 17 18 19]\n",
      "[20 21 22 23]\n"
     ]
    }
   ],
   "source": [
    "for i in arr13: \n",
    "    print(i)"
   ]
  },
  {
   "cell_type": "code",
   "execution_count": 124,
   "id": "1edc7358-93a3-4a97-a229-979b2247e932",
   "metadata": {},
   "outputs": [
    {
     "name": "stdout",
     "output_type": "stream",
     "text": [
      "0\n",
      "1\n",
      "2\n",
      "3\n",
      "4\n",
      "5\n",
      "6\n",
      "7\n",
      "8\n",
      "9\n",
      "10\n",
      "11\n",
      "12\n",
      "13\n",
      "14\n",
      "15\n",
      "16\n",
      "17\n",
      "18\n",
      "19\n",
      "20\n",
      "21\n",
      "22\n",
      "23\n"
     ]
    }
   ],
   "source": [
    "for i in np.nditer(arr13):\n",
    "    print(i)"
   ]
  },
  {
   "cell_type": "markdown",
   "id": "c4181f8d-aadc-4063-851a-45a724759e8e",
   "metadata": {},
   "source": [
    "NumPY Operations: \n"
   ]
  },
  {
   "cell_type": "code",
   "execution_count": 18,
   "id": "c678e8f2-6069-48ba-ad7a-646b9af92b71",
   "metadata": {},
   "outputs": [],
   "source": [
    "a1 = np.array([1,2,3,4,5])\n",
    "a2 = np.array([4,5,6,7,8])"
   ]
  },
  {
   "cell_type": "code",
   "execution_count": 20,
   "id": "9462f8f5-87f2-485f-a9da-33f4751dc25d",
   "metadata": {},
   "outputs": [
    {
     "data": {
      "text/plain": [
       "array([3, 3, 3, 3, 3])"
      ]
     },
     "execution_count": 20,
     "metadata": {},
     "output_type": "execute_result"
    }
   ],
   "source": [
    "a2 - a1"
   ]
  },
  {
   "cell_type": "code",
   "execution_count": 22,
   "id": "b5474bb2-a392-4bdf-9fae-5925f3c7939f",
   "metadata": {},
   "outputs": [
    {
     "data": {
      "text/plain": [
       "array([ 4, 10, 18, 28, 40])"
      ]
     },
     "execution_count": 22,
     "metadata": {},
     "output_type": "execute_result"
    }
   ],
   "source": [
    "a2 * a1"
   ]
  },
  {
   "cell_type": "code",
   "execution_count": 24,
   "id": "31216d05-56c7-46e0-baed-9b330e7aa3fa",
   "metadata": {},
   "outputs": [
    {
     "data": {
      "text/plain": [
       "array([ 2,  4,  6,  8, 10])"
      ]
     },
     "execution_count": 24,
     "metadata": {},
     "output_type": "execute_result"
    }
   ],
   "source": [
    "a1 * 2"
   ]
  },
  {
   "cell_type": "code",
   "execution_count": 28,
   "id": "e0b9c719-dc90-4936-b941-490ab92d098a",
   "metadata": {},
   "outputs": [
    {
     "data": {
      "text/plain": [
       "array([False, False, False,  True,  True])"
      ]
     },
     "execution_count": 28,
     "metadata": {},
     "output_type": "execute_result"
    }
   ],
   "source": [
    "a1 > 3"
   ]
  },
  {
   "cell_type": "code",
   "execution_count": 30,
   "id": "77c95a87-1114-4cde-9f28-d54a824b8ea8",
   "metadata": {},
   "outputs": [
    {
     "data": {
      "text/plain": [
       "array([ True,  True,  True,  True,  True])"
      ]
     },
     "execution_count": 30,
     "metadata": {},
     "output_type": "execute_result"
    }
   ],
   "source": [
    "a2 > 3"
   ]
  },
  {
   "cell_type": "code",
   "execution_count": 32,
   "id": "e7043290-b209-42d9-a450-2fb8a66fbe64",
   "metadata": {},
   "outputs": [],
   "source": [
    "a3 = np.arange(6).reshape(2,3)\n",
    "a4 = np.arange(6,12).reshape(3,2)"
   ]
  },
  {
   "cell_type": "code",
   "execution_count": 34,
   "id": "b850d5e4-c60a-4de9-bea3-1ea8c5c6a34e",
   "metadata": {},
   "outputs": [
    {
     "data": {
      "text/plain": [
       "array([[ 28,  31],\n",
       "       [100, 112]])"
      ]
     },
     "execution_count": 34,
     "metadata": {},
     "output_type": "execute_result"
    }
   ],
   "source": [
    "a3.dot(a4)"
   ]
  },
  {
   "cell_type": "code",
   "execution_count": 36,
   "id": "3596b519-d680-4e40-8561-e505fcf1f99f",
   "metadata": {},
   "outputs": [
    {
     "data": {
      "text/plain": [
       "100"
      ]
     },
     "execution_count": 36,
     "metadata": {},
     "output_type": "execute_result"
    }
   ],
   "source": [
    "a1.dot(a2)"
   ]
  },
  {
   "cell_type": "code",
   "execution_count": 38,
   "id": "66ee3d8c-25de-4a64-8116-c5198113c960",
   "metadata": {},
   "outputs": [
    {
     "data": {
      "text/plain": [
       "array([[ 6,  7],\n",
       "       [ 8,  9],\n",
       "       [10, 11]])"
      ]
     },
     "execution_count": 38,
     "metadata": {},
     "output_type": "execute_result"
    }
   ],
   "source": [
    "a4"
   ]
  },
  {
   "cell_type": "code",
   "execution_count": 42,
   "id": "b2996037-122d-42f4-a258-0cc7db44c24a",
   "metadata": {},
   "outputs": [
    {
     "data": {
      "text/plain": [
       "11"
      ]
     },
     "execution_count": 42,
     "metadata": {},
     "output_type": "execute_result"
    }
   ],
   "source": [
    "a4.max()\n"
   ]
  },
  {
   "cell_type": "code",
   "execution_count": null,
   "id": "ef058466-185a-4833-b815-0a2c039984bd",
   "metadata": {},
   "outputs": [],
   "source": []
  },
  {
   "cell_type": "code",
   "execution_count": 44,
   "id": "342ae76a-73e2-44b3-89e8-1a29f20aae9f",
   "metadata": {},
   "outputs": [
    {
     "data": {
      "text/plain": [
       "6"
      ]
     },
     "execution_count": 44,
     "metadata": {},
     "output_type": "execute_result"
    }
   ],
   "source": [
    "a4.min()"
   ]
  },
  {
   "cell_type": "code",
   "execution_count": 46,
   "id": "2fdd1a8c-63c8-4a8f-ac81-0294b93f81f8",
   "metadata": {},
   "outputs": [
    {
     "data": {
      "text/plain": [
       "array([6, 7])"
      ]
     },
     "execution_count": 46,
     "metadata": {},
     "output_type": "execute_result"
    }
   ],
   "source": [
    "a4.min(axis=0)"
   ]
  },
  {
   "cell_type": "code",
   "execution_count": 48,
   "id": "aad9faf0-b96b-4707-b7fe-d6e46ef0bcdf",
   "metadata": {},
   "outputs": [
    {
     "data": {
      "text/plain": [
       "array([ 6,  8, 10])"
      ]
     },
     "execution_count": 48,
     "metadata": {},
     "output_type": "execute_result"
    }
   ],
   "source": [
    "a4.min(axis=1)"
   ]
  },
  {
   "cell_type": "code",
   "execution_count": 50,
   "id": "6955b810-4727-4b97-8ec1-6ca4c0f49b00",
   "metadata": {},
   "outputs": [
    {
     "data": {
      "text/plain": [
       "51"
      ]
     },
     "execution_count": 50,
     "metadata": {},
     "output_type": "execute_result"
    }
   ],
   "source": [
    "a4.sum()"
   ]
  },
  {
   "cell_type": "code",
   "execution_count": 52,
   "id": "21e596d9-7506-4b13-9410-ebfbd0e6889a",
   "metadata": {},
   "outputs": [
    {
     "data": {
      "text/plain": [
       "array([24, 27])"
      ]
     },
     "execution_count": 52,
     "metadata": {},
     "output_type": "execute_result"
    }
   ],
   "source": [
    "a4.sum(axis=0)  #column wise sum"
   ]
  },
  {
   "cell_type": "code",
   "execution_count": 54,
   "id": "670387c1-02ed-4911-9efa-bb361fe9cf7d",
   "metadata": {},
   "outputs": [
    {
     "data": {
      "text/plain": [
       "array([13, 17, 21])"
      ]
     },
     "execution_count": 54,
     "metadata": {},
     "output_type": "execute_result"
    }
   ],
   "source": [
    "a4.sum(axis=1) #row wise sum"
   ]
  },
  {
   "cell_type": "code",
   "execution_count": 56,
   "id": "0d7724e4-d7a0-4c2e-b4f3-e5b9d5650a6e",
   "metadata": {},
   "outputs": [
    {
     "data": {
      "text/plain": [
       "8.5"
      ]
     },
     "execution_count": 56,
     "metadata": {},
     "output_type": "execute_result"
    }
   ],
   "source": [
    "a4.mean()"
   ]
  },
  {
   "cell_type": "code",
   "execution_count": 60,
   "id": "d374cdf0-56dc-4aa9-8daf-1fdcc305c16d",
   "metadata": {},
   "outputs": [
    {
     "data": {
      "text/plain": [
       "1.707825127659933"
      ]
     },
     "execution_count": 60,
     "metadata": {},
     "output_type": "execute_result"
    }
   ],
   "source": [
    "a4.std()"
   ]
  },
  {
   "cell_type": "code",
   "execution_count": 62,
   "id": "6e59cc8d-fef3-4c72-bc13-ab560fc0a3eb",
   "metadata": {},
   "outputs": [
    {
     "data": {
      "text/plain": [
       "8.5"
      ]
     },
     "execution_count": 62,
     "metadata": {},
     "output_type": "execute_result"
    }
   ],
   "source": [
    "np.median(a4)"
   ]
  },
  {
   "cell_type": "code",
   "execution_count": 64,
   "id": "a4e1c393-b24f-42da-9683-17633dde4255",
   "metadata": {},
   "outputs": [
    {
     "data": {
      "text/plain": [
       "array([[-0.2794155 ,  0.6569866 ],\n",
       "       [ 0.98935825,  0.41211849],\n",
       "       [-0.54402111, -0.99999021]])"
      ]
     },
     "execution_count": 64,
     "metadata": {},
     "output_type": "execute_result"
    }
   ],
   "source": [
    "np.sin(a4)"
   ]
  },
  {
   "cell_type": "code",
   "execution_count": 66,
   "id": "f9894eb6-596b-43ff-99c3-acb6e9d4d0ea",
   "metadata": {},
   "outputs": [
    {
     "data": {
      "text/plain": [
       "array([[  403.42879349,  1096.63315843],\n",
       "       [ 2980.95798704,  8103.08392758],\n",
       "       [22026.46579481, 59874.1417152 ]])"
      ]
     },
     "execution_count": 66,
     "metadata": {},
     "output_type": "execute_result"
    }
   ],
   "source": [
    "np.exp(a4)"
   ]
  },
  {
   "cell_type": "markdown",
   "id": "1c765025-0860-447b-bd19-4ba399fd39cf",
   "metadata": {},
   "source": [
    "Reshaping numPY arrays:"
   ]
  },
  {
   "cell_type": "code",
   "execution_count": 69,
   "id": "5f10b6f7-f661-4726-84c4-5015f2157ab2",
   "metadata": {},
   "outputs": [
    {
     "data": {
      "text/plain": [
       "2"
      ]
     },
     "execution_count": 69,
     "metadata": {},
     "output_type": "execute_result"
    }
   ],
   "source": [
    "a4.ndim"
   ]
  },
  {
   "cell_type": "code",
   "execution_count": 71,
   "id": "7cf30c8b-ad0c-44ed-9c41-ae5aa71ac915",
   "metadata": {},
   "outputs": [
    {
     "data": {
      "text/plain": [
       "array([ 6,  7,  8,  9, 10, 11])"
      ]
     },
     "execution_count": 71,
     "metadata": {},
     "output_type": "execute_result"
    }
   ],
   "source": [
    "a4.ravel()"
   ]
  },
  {
   "cell_type": "code",
   "execution_count": 73,
   "id": "2be8e972-9c27-4232-a85c-d180a0d93db6",
   "metadata": {},
   "outputs": [
    {
     "data": {
      "text/plain": [
       "array([[ 6,  8, 10],\n",
       "       [ 7,  9, 11]])"
      ]
     },
     "execution_count": 73,
     "metadata": {},
     "output_type": "execute_result"
    }
   ],
   "source": [
    "a4.transpose()"
   ]
  },
  {
   "cell_type": "code",
   "execution_count": 77,
   "id": "ffa5ceb5-1d09-40f3-a25d-6e58cad1bfe0",
   "metadata": {},
   "outputs": [
    {
     "data": {
      "text/plain": [
       "array([[12, 13, 14],\n",
       "       [15, 16, 17]])"
      ]
     },
     "execution_count": 77,
     "metadata": {},
     "output_type": "execute_result"
    }
   ],
   "source": [
    "a5 = np.arange(12,18).reshape(2,3)\n",
    "a5"
   ]
  },
  {
   "cell_type": "code",
   "execution_count": 79,
   "id": "597c2f68-c724-4682-96ef-19bf6baf8ceb",
   "metadata": {},
   "outputs": [
    {
     "data": {
      "text/plain": [
       "array([[ 0,  1,  2, 12, 13, 14],\n",
       "       [ 3,  4,  5, 15, 16, 17]])"
      ]
     },
     "execution_count": 79,
     "metadata": {},
     "output_type": "execute_result"
    }
   ],
   "source": [
    "np.hstack((a3,a5))"
   ]
  },
  {
   "cell_type": "code",
   "execution_count": 81,
   "id": "0daf3ec9-c926-4cec-a242-90099acaf533",
   "metadata": {},
   "outputs": [
    {
     "data": {
      "text/plain": [
       "array([[ 0,  1,  2],\n",
       "       [ 3,  4,  5],\n",
       "       [12, 13, 14],\n",
       "       [15, 16, 17]])"
      ]
     },
     "execution_count": 81,
     "metadata": {},
     "output_type": "execute_result"
    }
   ],
   "source": [
    "np.vstack((a3,a5))"
   ]
  },
  {
   "cell_type": "code",
   "execution_count": 85,
   "id": "c1f296b2-9342-4f40-b39b-f0004cc1f0ff",
   "metadata": {},
   "outputs": [
    {
     "data": {
      "text/plain": [
       "[array([[0],\n",
       "        [3]]),\n",
       " array([[1],\n",
       "        [4]]),\n",
       " array([[2],\n",
       "        [5]])]"
      ]
     },
     "execution_count": 85,
     "metadata": {},
     "output_type": "execute_result"
    }
   ],
   "source": [
    "np.hsplit(a3,3)"
   ]
  },
  {
   "cell_type": "code",
   "execution_count": 87,
   "id": "da9a2107-87bf-4c5a-804b-ed85f37076bd",
   "metadata": {},
   "outputs": [
    {
     "data": {
      "text/plain": [
       "[array([[0, 1, 2]]), array([[3, 4, 5]])]"
      ]
     },
     "execution_count": 87,
     "metadata": {},
     "output_type": "execute_result"
    }
   ],
   "source": [
    "np.vsplit(a3,2)"
   ]
  },
  {
   "cell_type": "markdown",
   "id": "cf8a8d0c-4f16-4871-990e-213b9753f307",
   "metadata": {},
   "source": [
    "fancy indexing:"
   ]
  },
  {
   "cell_type": "code",
   "execution_count": 98,
   "id": "e18d27c0-35e7-417d-aefd-7d6655d975f3",
   "metadata": {},
   "outputs": [
    {
     "data": {
      "text/plain": [
       "array([[ 0,  1,  2,  3],\n",
       "       [ 4,  5,  6,  7],\n",
       "       [ 8,  9, 10, 11],\n",
       "       [12, 13, 14, 15],\n",
       "       [16, 17, 18, 19],\n",
       "       [20, 21, 22, 23]])"
      ]
     },
     "execution_count": 98,
     "metadata": {},
     "output_type": "execute_result"
    }
   ],
   "source": [
    "a6 = np.arange(24).reshape(6,4)\n",
    "a6"
   ]
  },
  {
   "cell_type": "code",
   "execution_count": 100,
   "id": "d5c145b6-d9e4-4b2e-8e3b-06f91be45d3b",
   "metadata": {},
   "outputs": [
    {
     "data": {
      "text/plain": [
       "array([[ 0,  1,  2,  3],\n",
       "       [ 8,  9, 10, 11],\n",
       "       [16, 17, 18, 19]])"
      ]
     },
     "execution_count": 100,
     "metadata": {},
     "output_type": "execute_result"
    }
   ],
   "source": [
    "a6[[0,2,4]]"
   ]
  },
  {
   "cell_type": "markdown",
   "id": "fd1e228c-d77a-4cd5-a4fb-dec156b8203f",
   "metadata": {},
   "source": [
    "indexing using boolean array:"
   ]
  },
  {
   "cell_type": "code",
   "execution_count": 111,
   "id": "f6a4d718-6bdf-423e-9079-6803b7539b06",
   "metadata": {},
   "outputs": [
    {
     "data": {
      "text/plain": [
       "array([[90, 17, 66, 28, 32],\n",
       "       [46, 81, 77, 75, 27],\n",
       "       [61,  9, 91, 30, 64],\n",
       "       [57, 58, 12, 83, 39]])"
      ]
     },
     "execution_count": 111,
     "metadata": {},
     "output_type": "execute_result"
    }
   ],
   "source": [
    "arr14 = np.random.randint(low = 1, high = 100, size = 20).reshape(4,5)\n",
    "arr14"
   ]
  },
  {
   "cell_type": "markdown",
   "id": "c9c1dcc3-3d8c-4180-bc75-bf77009d4f74",
   "metadata": {},
   "source": [
    "# "
   ]
  },
  {
   "cell_type": "code",
   "execution_count": 113,
   "id": "62d2cbb5-f366-405b-972c-74cf9ecab0b2",
   "metadata": {},
   "outputs": [
    {
     "data": {
      "text/plain": [
       "array([[ True, False,  True, False, False],\n",
       "       [False,  True,  True,  True, False],\n",
       "       [ True, False,  True, False,  True],\n",
       "       [ True,  True, False,  True, False]])"
      ]
     },
     "execution_count": 113,
     "metadata": {},
     "output_type": "execute_result"
    }
   ],
   "source": [
    "arr14 > 50"
   ]
  },
  {
   "cell_type": "code",
   "execution_count": 119,
   "id": "fcb95a2e-1fea-4ba1-8308-d7a8e054c8e7",
   "metadata": {},
   "outputs": [
    {
     "data": {
      "text/plain": [
       "array([90, 66, 81, 77, 75, 61, 91, 64, 57, 58, 83])"
      ]
     },
     "execution_count": 119,
     "metadata": {},
     "output_type": "execute_result"
    }
   ],
   "source": [
    "arr14[(arr14 > 50)]"
   ]
  },
  {
   "cell_type": "code",
   "execution_count": 121,
   "id": "14b04bc6-1de5-485e-a68a-09c1782d46d5",
   "metadata": {},
   "outputs": [
    {
     "data": {
      "text/plain": [
       "array([81, 77, 75, 61, 91, 57, 83])"
      ]
     },
     "execution_count": 121,
     "metadata": {},
     "output_type": "execute_result"
    }
   ],
   "source": [
    "arr14[(arr14 > 50) & (arr14 % 2 != 0)]"
   ]
  },
  {
   "cell_type": "code",
   "execution_count": 125,
   "id": "f2d9ec80-80e3-46fc-9d5c-1a5309f4ac01",
   "metadata": {},
   "outputs": [
    {
     "data": {
      "text/plain": [
       "array([[90, 17, 66, 28, 32],\n",
       "       [46,  0,  0,  0, 27],\n",
       "       [ 0,  9,  0, 30, 64],\n",
       "       [ 0, 58, 12,  0, 39]])"
      ]
     },
     "execution_count": 125,
     "metadata": {},
     "output_type": "execute_result"
    }
   ],
   "source": [
    "arr14[(arr14 > 50) & (arr14 % 2 != 0)]=0\n",
    "arr14"
   ]
  },
  {
   "cell_type": "markdown",
   "id": "9b3faf5d-6bc5-44e9-9042-40366f1d5cca",
   "metadata": {},
   "source": [
    "Plotting graphs using Numpy:"
   ]
  },
  {
   "cell_type": "code",
   "execution_count": 129,
   "id": "d1b1d193-094e-4c50-b2a5-b463aa050c70",
   "metadata": {},
   "outputs": [],
   "source": [
    "x = np.linspace(-40,40,100)"
   ]
  },
  {
   "cell_type": "code",
   "execution_count": 133,
   "id": "aeda60b0-312a-4ea5-b3c4-c22519368273",
   "metadata": {},
   "outputs": [
    {
     "data": {
      "text/plain": [
       "100"
      ]
     },
     "execution_count": 133,
     "metadata": {},
     "output_type": "execute_result"
    }
   ],
   "source": [
    "x.size"
   ]
  },
  {
   "cell_type": "code",
   "execution_count": 135,
   "id": "5f903d30-d1e9-4d8c-9f7b-1f3e00e44571",
   "metadata": {},
   "outputs": [],
   "source": [
    "y = np.sin(x)"
   ]
  },
  {
   "cell_type": "code",
   "execution_count": 137,
   "id": "379cd2a6-4ca3-44a6-a8af-bac85d92dcff",
   "metadata": {},
   "outputs": [
    {
     "data": {
      "text/plain": [
       "100"
      ]
     },
     "execution_count": 137,
     "metadata": {},
     "output_type": "execute_result"
    }
   ],
   "source": [
    "y.size"
   ]
  },
  {
   "cell_type": "code",
   "execution_count": 149,
   "id": "36726e8b-7872-4e9a-b419-dc27c2aa3d74",
   "metadata": {},
   "outputs": [],
   "source": [
    "import matplotlib.pyplot as plt\n",
    "%matplotlib inline\n"
   ]
  },
  {
   "cell_type": "code",
   "execution_count": 155,
   "id": "6da60c20-65d8-4268-bc57-0cc515459517",
   "metadata": {},
   "outputs": [
    {
     "data": {
      "image/png": "[encoded data removed]",
      "text/plain": [
       "<Figure size 640x480 with 1 Axes>"
      ]
     },
     "metadata": {},
     "output_type": "display_data"
    }
   ],
   "source": [
    "plt.plot(x,y)\n",
    "plt.show()"
   ]
  },
  {
   "cell_type": "code",
   "execution_count": 157,
   "id": "5ddad116-0724-40f3-9423-3b901661909b",
   "metadata": {},
   "outputs": [],
   "source": [
    "y = x*x + 2*x + 6"
   ]
  },
  {
   "cell_type": "code",
   "execution_count": 159,
   "id": "51406fbf-4c31-412e-b453-88c7622b0632",
   "metadata": {},
   "outputs": [
    {
     "data": {
      "image/png": "[encoded data removed]",
      "text/plain": [
       "<Figure size 640x480 with 1 Axes>"
      ]
     },
     "metadata": {},
     "output_type": "display_data"
    }
   ],
   "source": [
    "plt.plot(x,y)\n",
    "plt.show()"
   ]
  },
  {
   "cell_type": "markdown",
   "id": "18927245-075e-4ca7-b5e1-72dd6aee405f",
   "metadata": {},
   "source": [
    "Broadcasting:"
   ]
  },
  {
   "cell_type": "code",
   "execution_count": 162,
   "id": "e5404e3e-20fe-4532-aef8-d7561fa93278",
   "metadata": {},
   "outputs": [
    {
     "data": {
      "text/plain": [
       "array([1, 2, 3, 4, 5])"
      ]
     },
     "execution_count": 162,
     "metadata": {},
     "output_type": "execute_result"
    }
   ],
   "source": [
    "a1"
   ]
  },
  {
   "cell_type": "markdown",
   "id": "638d6252-7d72-46bb-a55d-44f8b38d1804",
   "metadata": {},
   "source": [
    "More Numpy functions:"
   ]
  },
  {
   "cell_type": "code",
   "execution_count": 167,
   "id": "6f7c6f9f-b950-4134-9a1e-d2ed1a628724",
   "metadata": {},
   "outputs": [
    {
     "data": {
      "text/plain": [
       "0.7938637283961703"
      ]
     },
     "execution_count": 167,
     "metadata": {},
     "output_type": "execute_result"
    }
   ],
   "source": [
    "np.random.random()"
   ]
  },
  {
   "cell_type": "code",
   "execution_count": 169,
   "id": "0fd62a22-c3d2-4fd3-8d35-4ce23f1673d7",
   "metadata": {},
   "outputs": [
    {
     "data": {
      "text/plain": [
       "0.417022004702574"
      ]
     },
     "execution_count": 169,
     "metadata": {},
     "output_type": "execute_result"
    }
   ],
   "source": [
    "np.random.seed(1)\n",
    "np.random.random()"
   ]
  },
  {
   "cell_type": "code",
   "execution_count": 177,
   "id": "7a3ebf01-ec85-47d6-ab65-295911ce5483",
   "metadata": {},
   "outputs": [
    {
     "data": {
      "text/plain": [
       "5.116328008422879"
      ]
     },
     "execution_count": 177,
     "metadata": {},
     "output_type": "execute_result"
    }
   ],
   "source": [
    "np.random.uniform(3,10)"
   ]
  },
  {
   "cell_type": "code",
   "execution_count": 179,
   "id": "8dd1a1a7-b570-45a9-afd2-8a1c2ea8a575",
   "metadata": {},
   "outputs": [
    {
     "data": {
      "text/plain": [
       "array([15.52883319, 10.14152088, 19.43976093, 35.21051198, 40.27997995,\n",
       "       54.34285667, 42.50025693, 68.83673054, 21.24077272, 87.9336262 ])"
      ]
     },
     "execution_count": 179,
     "metadata": {},
     "output_type": "execute_result"
    }
   ],
   "source": [
    "np.random.uniform(1,100,10)    # (lower_range, higher_range, size or number of values)"
   ]
  },
  {
   "cell_type": "code",
   "execution_count": 183,
   "id": "2662e173-5f25-46a6-b4a5-cdd26044bf44",
   "metadata": {},
   "outputs": [
    {
     "data": {
      "text/plain": [
       "array([[87.76252608, 89.56605969,  9.41937693,  4.86642354, 17.81321154],\n",
       "       [87.93610784, 10.73633655, 42.68965488, 95.83106348, 53.78336321]])"
      ]
     },
     "execution_count": 183,
     "metadata": {},
     "output_type": "execute_result"
    }
   ],
   "source": [
    "np.random.uniform(1,100,10).reshape(2,5)"
   ]
  },
  {
   "cell_type": "code",
   "execution_count": 188,
   "id": "1ec45cb2-8c21-487f-81ea-2d6866547cfc",
   "metadata": {},
   "outputs": [
    {
     "data": {
      "text/plain": [
       "9"
      ]
     },
     "execution_count": 188,
     "metadata": {},
     "output_type": "execute_result"
    }
   ],
   "source": [
    "np.random.randint(1,10) #for int random values"
   ]
  },
  {
   "cell_type": "code",
   "execution_count": 190,
   "id": "995bf304-5e48-4f17-a68e-722431b1e953",
   "metadata": {},
   "outputs": [
    {
     "data": {
      "text/plain": [
       "array([[2, 5, 1, 4, 3],\n",
       "       [1, 5, 3, 8, 8],\n",
       "       [9, 7, 4, 8, 8]])"
      ]
     },
     "execution_count": 190,
     "metadata": {},
     "output_type": "execute_result"
    }
   ],
   "source": [
    "np.random.randint(1,10,15).reshape(3,5)"
   ]
  },
  {
   "cell_type": "code",
   "execution_count": 198,
   "id": "cc9ee977-50d3-40c0-86e6-dc10a331776c",
   "metadata": {},
   "outputs": [
    {
     "data": {
      "text/plain": [
       "array([2, 4, 1, 9, 7, 5, 6, 7, 3, 6])"
      ]
     },
     "execution_count": 198,
     "metadata": {},
     "output_type": "execute_result"
    }
   ],
   "source": [
    "b = np.random.randint(1,12,10)\n",
    "b"
   ]
  },
  {
   "cell_type": "code",
   "execution_count": 202,
   "id": "3664365d-7517-46f1-a9ce-57436d670d2b",
   "metadata": {},
   "outputs": [
    {
     "data": {
      "text/plain": [
       "9"
      ]
     },
     "execution_count": 202,
     "metadata": {},
     "output_type": "execute_result"
    }
   ],
   "source": [
    "np.max(b)\n"
   ]
  },
  {
   "cell_type": "code",
   "execution_count": 204,
   "id": "2dccf7f1-986a-423e-b93a-aea01d6b10ec",
   "metadata": {},
   "outputs": [
    {
     "data": {
      "text/plain": [
       "1"
      ]
     },
     "execution_count": 204,
     "metadata": {},
     "output_type": "execute_result"
    }
   ],
   "source": [
    "np.min(b)"
   ]
  },
  {
   "cell_type": "code",
   "execution_count": 206,
   "id": "a4d7ed99-0063-49d6-8865-d4a2bed1fc02",
   "metadata": {},
   "outputs": [
    {
     "data": {
      "text/plain": [
       "3"
      ]
     },
     "execution_count": 206,
     "metadata": {},
     "output_type": "execute_result"
    }
   ],
   "source": [
    "np.argmax(b)"
   ]
  },
  {
   "cell_type": "code",
   "execution_count": 208,
   "id": "61a8b73d-13d7-4273-9f94-b02f804e6657",
   "metadata": {},
   "outputs": [
    {
     "data": {
      "text/plain": [
       "9"
      ]
     },
     "execution_count": 208,
     "metadata": {},
     "output_type": "execute_result"
    }
   ],
   "source": [
    "b[np.argmax(b)]"
   ]
  },
  {
   "cell_type": "code",
   "execution_count": 210,
   "id": "9a015938-5556-4761-adf1-ee8beb6aa71f",
   "metadata": {},
   "outputs": [
    {
     "data": {
      "text/plain": [
       "2"
      ]
     },
     "execution_count": 210,
     "metadata": {},
     "output_type": "execute_result"
    }
   ],
   "source": [
    "np.argmin(b)"
   ]
  },
  {
   "cell_type": "code",
   "execution_count": 212,
   "id": "2e35096c-0897-4e91-952f-d06697c2d9d3",
   "metadata": {},
   "outputs": [
    {
     "data": {
      "text/plain": [
       "1"
      ]
     },
     "execution_count": 212,
     "metadata": {},
     "output_type": "execute_result"
    }
   ],
   "source": [
    "b[np.argmin(b)]"
   ]
  },
  {
   "cell_type": "code",
   "execution_count": 216,
   "id": "237bb007-ab07-4476-a838-a163b03576cd",
   "metadata": {},
   "outputs": [
    {
     "data": {
      "text/plain": [
       "array([1, 8, 2, 8, 9, 5])"
      ]
     },
     "execution_count": 216,
     "metadata": {},
     "output_type": "execute_result"
    }
   ],
   "source": [
    "b = np.random.randint(1,10,6)\n",
    "b"
   ]
  },
  {
   "cell_type": "code",
   "execution_count": 220,
   "id": "5adba581-790f-4f0e-92a9-502203c241f2",
   "metadata": {},
   "outputs": [
    {
     "data": {
      "text/plain": [
       "array([-1,  8,  2,  8, -1, -1])"
      ]
     },
     "execution_count": 220,
     "metadata": {},
     "output_type": "execute_result"
    }
   ],
   "source": [
    "b[b%2==1]= -1\n",
    "b"
   ]
  },
  {
   "cell_type": "code",
   "execution_count": 228,
   "id": "ad3c9482-a4e7-41b2-aadc-377bf04f91ac",
   "metadata": {},
   "outputs": [
    {
     "data": {
      "text/plain": [
       "array([30, 20, 32, 35, 37, 28])"
      ]
     },
     "execution_count": 228,
     "metadata": {},
     "output_type": "execute_result"
    }
   ],
   "source": [
    "b = np.random.randint(15,50,6)\n",
    "b"
   ]
  },
  {
   "cell_type": "code",
   "execution_count": 230,
   "id": "a980a15a-4dfb-4d6f-af26-128566313f86",
   "metadata": {},
   "outputs": [],
   "source": [
    "#where(condition,true,false)"
   ]
  },
  {
   "cell_type": "code",
   "execution_count": 236,
   "id": "cd2c062d-d9d0-40bb-bf44-bc65ca052e88",
   "metadata": {},
   "outputs": [
    {
     "data": {
      "text/plain": [
       "array([30, 20, 32,  1,  1, 28])"
      ]
     },
     "execution_count": 236,
     "metadata": {},
     "output_type": "execute_result"
    }
   ],
   "source": [
    "np.where(b%2==1,1,b)"
   ]
  },
  {
   "cell_type": "code",
   "execution_count": 242,
   "id": "55198272-7ca3-48a5-bc3d-cb9f0637c026",
   "metadata": {},
   "outputs": [
    {
     "data": {
      "text/plain": [
       "array([30, 20, 32, -1, -1, 28])"
      ]
     },
     "execution_count": 242,
     "metadata": {},
     "output_type": "execute_result"
    }
   ],
   "source": [
    "\n",
    "out = np.where(b%2==1,-1,b)\n",
    "out"
   ]
  },
  {
   "cell_type": "code",
   "execution_count": 244,
   "id": "e62da2a2-e804-4bea-ad56-b5aa1fc28d5b",
   "metadata": {},
   "outputs": [
    {
     "data": {
      "text/plain": [
       "array([34, 21, 11, 33, 26, 22, 40, 33, 20, 26])"
      ]
     },
     "execution_count": 244,
     "metadata": {},
     "output_type": "execute_result"
    }
   ],
   "source": [
    "b = np.random.randint(1,50,10)\n",
    "b"
   ]
  },
  {
   "cell_type": "code",
   "execution_count": 248,
   "id": "185d88ee-e317-438c-9635-5a133b3700f7",
   "metadata": {},
   "outputs": [
    {
     "data": {
      "text/plain": [
       "array([11, 20, 21, 22, 26, 26, 33, 33, 34, 40])"
      ]
     },
     "execution_count": 248,
     "metadata": {},
     "output_type": "execute_result"
    }
   ],
   "source": [
    "np.sort(b)"
   ]
  },
  {
   "cell_type": "code",
   "execution_count": 250,
   "id": "d37f5723-d819-4bc8-b8a0-fdd72a7919d2",
   "metadata": {},
   "outputs": [
    {
     "data": {
      "text/plain": [
       "21.25"
      ]
     },
     "execution_count": 250,
     "metadata": {},
     "output_type": "execute_result"
    }
   ],
   "source": [
    "np.percentile(b,25)"
   ]
  },
  {
   "cell_type": "code",
   "execution_count": 252,
   "id": "869f16b2-c122-41bd-a3ae-d5dc3fa55c04",
   "metadata": {},
   "outputs": [
    {
     "data": {
      "text/plain": [
       "26.0"
      ]
     },
     "execution_count": 252,
     "metadata": {},
     "output_type": "execute_result"
    }
   ],
   "source": [
    "np.percentile(b,50)"
   ]
  },
  {
   "cell_type": "code",
   "execution_count": 254,
   "id": "96ccaa31-9b0a-4f28-aa2a-cb8cd2e30837",
   "metadata": {},
   "outputs": [
    {
     "data": {
      "text/plain": [
       "40.0"
      ]
     },
     "execution_count": 254,
     "metadata": {},
     "output_type": "execute_result"
    }
   ],
   "source": [
    "np.percentile(b,100)"
   ]
  },
  {
   "cell_type": "code",
   "execution_count": null,
   "id": "62c883cf-7102-4243-b30c-3b6193c22d7f",
   "metadata": {},
   "outputs": [],
   "source": []
  }
 ],
 "metadata": {
  "kernelspec": {
   "display_name": "Python [conda env:base] *",
   "language": "python",
   "name": "conda-base-py"
  },
  "language_info": {
   "codemirror_mode": {
    "name": "ipython",
    "version": 3
   },
   "file_extension": ".py",
   "mimetype": "text/x-python",
   "name": "python",
   "nbconvert_exporter": "python",
   "pygments_lexer": "ipython3",
   "version": "3.12.7"
  }
 },
 "nbformat": 4,
 "nbformat_minor": 5
}
